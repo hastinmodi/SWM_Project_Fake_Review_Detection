{
  "nbformat": 4,
  "nbformat_minor": 0,
  "metadata": {
    "colab": {
      "provenance": []
    },
    "kernelspec": {
      "name": "python3",
      "display_name": "Python 3"
    },
    "language_info": {
      "name": "python"
    }
  },
  "cells": [
    {
      "cell_type": "code",
      "execution_count": 2,
      "metadata": {
        "id": "3IpIJEID5S4k"
      },
      "outputs": [],
      "source": [
        "import pandas as pd\n",
        "import numpy as np\n",
        "import matplotlib.pyplot as plt\n",
        "import nltk\n",
        "from nltk.stem import WordNetLemmatizer\n",
        "import re\n",
        "from sklearn.model_selection import train_test_split"
      ]
    },
    {
      "cell_type": "code",
      "source": [
        "# download the required NLTK data\n",
        "nltk.download('wordnet')\n",
        "nltk.download('omw-1.4')"
      ],
      "metadata": {
        "colab": {
          "base_uri": "https://localhost:8080/"
        },
        "id": "d2lz2rKi5eje",
        "outputId": "df8b994c-cfa5-42c1-b6e2-cc2c7c747541"
      },
      "execution_count": 3,
      "outputs": [
        {
          "output_type": "stream",
          "name": "stderr",
          "text": [
            "[nltk_data] Downloading package wordnet to /root/nltk_data...\n",
            "[nltk_data]   Package wordnet is already up-to-date!\n",
            "[nltk_data] Downloading package omw-1.4 to /root/nltk_data...\n",
            "[nltk_data]   Package omw-1.4 is already up-to-date!\n"
          ]
        },
        {
          "output_type": "execute_result",
          "data": {
            "text/plain": [
              "True"
            ]
          },
          "metadata": {},
          "execution_count": 3
        }
      ]
    },
    {
      "cell_type": "code",
      "source": [
        "# define the function for lemmatizing\n",
        "lemmatizer = WordNetLemmatizer()\n",
        "\n",
        "def lemmatize(text):\n",
        "    return \" \".join([lemmatizer.lemmatize(word) for word in text.split()])"
      ],
      "metadata": {
        "id": "QdSC0pV75g7o"
      },
      "execution_count": 4,
      "outputs": []
    },
    {
      "cell_type": "code",
      "source": [
        "# define the function for removing extra spaces\n",
        "def preprocess_text(text): \n",
        "\n",
        "    return re.sub(r'\\s+', ' ', text)"
      ],
      "metadata": {
        "id": "BHlVfs059Myq"
      },
      "execution_count": 5,
      "outputs": []
    },
    {
      "cell_type": "code",
      "source": [
        "ori_data = pd.read_csv('/content/drive/MyDrive/fake reviews dataset.csv')\n",
        "new_data = pd.read_csv('/content/drive/MyDrive/new_fake_reviews_data.csv')"
      ],
      "metadata": {
        "id": "YV1wt8965jGE"
      },
      "execution_count": 6,
      "outputs": []
    },
    {
      "cell_type": "code",
      "source": [
        "# apply the function for removing extra spaces on the data\n",
        "ori_data['text_space'] = ori_data['text_'].apply(preprocess_text)\n",
        "new_data['text_space'] = new_data['text_'].apply(preprocess_text)"
      ],
      "metadata": {
        "id": "tM1bBDmb5tGP"
      },
      "execution_count": 7,
      "outputs": []
    },
    {
      "cell_type": "code",
      "source": [
        "# apply the function for lemmatization on the data\n",
        "ori_data['text_final'] = ori_data['text_space'].apply(lemmatize)\n",
        "new_data['text_final'] = new_data['text_space'].apply(lemmatize)"
      ],
      "metadata": {
        "id": "aHsv9WsD9mbY"
      },
      "execution_count": 8,
      "outputs": []
    },
    {
      "cell_type": "code",
      "source": [
        "# create a new column for sentiment based on the rating\n",
        "ori_data['sentiment'] = [1 if rating > 3 else 0 for rating in ori_data['rating']]\n",
        "new_data['sentiment'] = [1 if rating > 3 else 0 for rating in new_data['rating']]"
      ],
      "metadata": {
        "id": "RgAiFSwu-GiK"
      },
      "execution_count": 9,
      "outputs": []
    },
    {
      "cell_type": "code",
      "source": [
        "# create a new column containing the count of words\n",
        "ori_data['word_count'] = ori_data['text_final'].str.split().str.len()\n",
        "new_data['word_count'] = new_data['text_final'].str.split().str.len()"
      ],
      "metadata": {
        "id": "cNCfBh2LAeid"
      },
      "execution_count": 10,
      "outputs": []
    },
    {
      "cell_type": "code",
      "source": [
        "# delete the unnecessary columns\n",
        "ori_data = ori_data.drop(['text_', 'text_space'], axis=1)\n",
        "new_data = new_data.drop(['text_', 'text_space'], axis=1)"
      ],
      "metadata": {
        "id": "8FK4TxHzcTuv"
      },
      "execution_count": 11,
      "outputs": []
    },
    {
      "cell_type": "code",
      "source": [
        "plt.hist(ori_data['word_count'], bins=30)"
      ],
      "metadata": {
        "colab": {
          "base_uri": "https://localhost:8080/",
          "height": 467
        },
        "id": "XxY4PEFEXkfQ",
        "outputId": "97d5693c-3579-4b11-dc5f-c4e67a61fbab"
      },
      "execution_count": 13,
      "outputs": [
        {
          "output_type": "execute_result",
          "data": {
            "text/plain": [
              "(array([2.3430e+03, 1.1387e+04, 6.4620e+03, 3.9110e+03, 2.7600e+03,\n",
              "        2.2060e+03, 1.5740e+03, 1.3730e+03, 1.0210e+03, 8.8000e+02,\n",
              "        8.1200e+02, 6.3200e+02, 6.2500e+02, 5.0700e+02, 4.3200e+02,\n",
              "        4.6900e+02, 3.7900e+02, 3.8200e+02, 3.1200e+02, 3.3800e+02,\n",
              "        3.1700e+02, 3.1800e+02, 2.7200e+02, 1.6500e+02, 1.4800e+02,\n",
              "        1.4300e+02, 1.3100e+02, 9.9000e+01, 2.9000e+01, 5.0000e+00]),\n",
              " array([  1. ,  13.4,  25.8,  38.2,  50.6,  63. ,  75.4,  87.8, 100.2,\n",
              "        112.6, 125. , 137.4, 149.8, 162.2, 174.6, 187. , 199.4, 211.8,\n",
              "        224.2, 236.6, 249. , 261.4, 273.8, 286.2, 298.6, 311. , 323.4,\n",
              "        335.8, 348.2, 360.6, 373. ]),\n",
              " <BarContainer object of 30 artists>)"
            ]
          },
          "metadata": {},
          "execution_count": 13
        },
        {
          "output_type": "display_data",
          "data": {
            "text/plain": [
              "<Figure size 432x288 with 1 Axes>"
            ],
            "image/png": "[encoded data removed]"
          },
          "metadata": {
            "needs_background": "light"
          }
        }
      ]
    },
    {
      "cell_type": "code",
      "source": [
        "plt.hist(new_data['word_count'], bins=30)"
      ],
      "metadata": {
        "colab": {
          "base_uri": "https://localhost:8080/",
          "height": 541
        },
        "id": "EgGRsUY7Zw2p",
        "outputId": "d54c16a6-9800-48d4-ff11-1fca37078ca8"
      },
      "execution_count": 14,
      "outputs": [
        {
          "output_type": "execute_result",
          "data": {
            "text/plain": [
              "(array([6.3910e+03, 1.1314e+04, 6.0330e+03, 3.7890e+03, 2.5970e+03,\n",
              "        1.8670e+03, 1.7160e+03, 1.5940e+03, 1.4750e+03, 9.9300e+02,\n",
              "        5.5700e+02, 3.2200e+02, 2.6600e+02, 2.2200e+02, 1.9700e+02,\n",
              "        2.3400e+02, 2.0300e+02, 1.9500e+02, 1.8100e+02, 1.7200e+02,\n",
              "        9.8000e+01, 1.0000e+01, 0.0000e+00, 1.0000e+00, 1.0000e+00,\n",
              "        1.0000e+00, 1.0000e+00, 0.0000e+00, 0.0000e+00, 2.0000e+00]),\n",
              " array([  1.        ,  17.93333333,  34.86666667,  51.8       ,\n",
              "         68.73333333,  85.66666667, 102.6       , 119.53333333,\n",
              "        136.46666667, 153.4       , 170.33333333, 187.26666667,\n",
              "        204.2       , 221.13333333, 238.06666667, 255.        ,\n",
              "        271.93333333, 288.86666667, 305.8       , 322.73333333,\n",
              "        339.66666667, 356.6       , 373.53333333, 390.46666667,\n",
              "        407.4       , 424.33333333, 441.26666667, 458.2       ,\n",
              "        475.13333333, 492.06666667, 509.        ]),\n",
              " <BarContainer object of 30 artists>)"
            ]
          },
          "metadata": {},
          "execution_count": 14
        },
        {
          "output_type": "display_data",
          "data": {
            "text/plain": [
              "<Figure size 432x288 with 1 Axes>"
            ],
            "image/png": "[encoded data removed]"
          },
          "metadata": {
            "needs_background": "light"
          }
        }
      ]
    },
    {
      "cell_type": "code",
      "source": [
        "# converting the count of words column to a categorical one\n",
        "\n",
        "# define the ranges for the categorical values\n",
        "bins_ori = [0, 10, 20, 50, 100, max(ori_data['word_count'])]\n",
        "\n",
        "# define the labels for the categorical values\n",
        "labels = [0, 1, 2, 3, 4]\n",
        "\n",
        "# convert the numerical column to a categorical column based on the ranges and labels\n",
        "ori_data['word_count_categories'] = pd.cut(ori_data['word_count'], bins=bins_ori, labels=labels)"
      ],
      "metadata": {
        "id": "jgSoVhDsCk0R"
      },
      "execution_count": 16,
      "outputs": []
    },
    {
      "cell_type": "code",
      "source": [
        "# define the ranges for the categorical values\n",
        "bins_new = [0, 10, 20, 50, 100, max(new_data['word_count'])]\n",
        "\n",
        "# convert the numerical column to a categorical column based on the ranges and labels\n",
        "new_data['word_count_categories'] = pd.cut(new_data['word_count'], bins=bins_new, labels=labels)"
      ],
      "metadata": {
        "id": "YwipGeBgegk0"
      },
      "execution_count": 23,
      "outputs": []
    },
    {
      "cell_type": "code",
      "source": [
        "# delete the unnecessary columns\n",
        "ori_data = ori_data.drop(['word_count'], axis=1)\n",
        "new_data = new_data.drop(['word_count'], axis=1)"
      ],
      "metadata": {
        "id": "HJ_Bo2NpexOA"
      },
      "execution_count": 24,
      "outputs": []
    },
    {
      "cell_type": "code",
      "source": [
        "# download final dataset\n",
        "ori_data.to_csv('ori_data_final.csv', index=False)\n",
        "new_data.to_csv('new_data_final.csv', index=False)"
      ],
      "metadata": {
        "id": "CgWxBv2obdB2"
      },
      "execution_count": 25,
      "outputs": []
    },
    {
      "cell_type": "code",
      "source": [
        "# shuffle the data\n",
        "ori_data = ori_data.sample(frac=1).reset_index(drop=True)\n",
        "\n",
        "# split the data into training (80%), validation (10%), and testing (10%) sets\n",
        "ori_train_df, ori_rem_df = train_test_split(ori_data, test_size=0.2, random_state=42)\n",
        "ori_val_df, ori_test_df = train_test_split(ori_rem_df, test_size=0.5, random_state=42)\n",
        "\n",
        "# save the splits into separate CSV files\n",
        "ori_train_df.to_csv('ori_data_final_train.csv', index=False)\n",
        "ori_val_df.to_csv('ori_data_final_val.csv', index=False)\n",
        "ori_test_df.to_csv('ori_data_final_test.csv', index=False)"
      ],
      "metadata": {
        "id": "Z6yRXICaTOab"
      },
      "execution_count": 26,
      "outputs": []
    },
    {
      "cell_type": "code",
      "source": [
        "# shuffle the data\n",
        "new_data = new_data.sample(frac=1).reset_index(drop=True)\n",
        "\n",
        "# split the data into training (80%), validation (10%), and testing (10%) sets\n",
        "new_train_df, new_rem_df = train_test_split(new_data, test_size=0.2, random_state=42)\n",
        "new_val_df, new_test_df = train_test_split(new_rem_df, test_size=0.5, random_state=42)\n",
        "\n",
        "# save the splits into separate CSV files\n",
        "new_train_df.to_csv('new_data_final_train.csv', index=False)\n",
        "new_val_df.to_csv('new_data_final_val.csv', index=False)\n",
        "new_test_df.to_csv('new_data_final_test.csv', index=False)"
      ],
      "metadata": {
        "id": "HpH3n0lCUrho"
      },
      "execution_count": 27,
      "outputs": []
    },
    {
      "cell_type": "code",
      "source": [],
      "metadata": {
        "id": "2WJZ_qhhgJ0V"
      },
      "execution_count": null,
      "outputs": []
    }
  ]
}